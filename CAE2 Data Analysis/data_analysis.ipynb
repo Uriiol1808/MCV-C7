{
 "cells": [
  {
   "cell_type": "markdown",
   "metadata": {},
   "source": [
    "# M0.212 Research Dissermination and Transfer\n",
    "# CAE2 - Data Analysis - 2024/2025"
   ]
  },
  {
   "cell_type": "markdown",
   "metadata": {},
   "source": [
    "## Exercise 1"
   ]
  },
  {
   "cell_type": "markdown",
   "metadata": {},
   "source": [
    "Generate a random sample of 2000 real numbers.\n",
    "- Find the confidence interval of such sample with a condifence level of 90%.\n",
    "- By employing a Chi-squared test, find if your data belongs to a normal or Poisson distribution. To solve this exercise apply two hypothesis contrast, one per distribution. Then find out to which one the null hypothesis H0 the sample belongs to the distribution, prevails. Set a significance level of 10%, alpha = 0.1."
   ]
  },
  {
   "cell_type": "code",
   "execution_count": 1,
   "metadata": {},
   "outputs": [
    {
     "name": "stdout",
     "output_type": "stream",
     "text": [
      "90% Confidence Interval for the Sample Mean: (np.float64(49.40436229847088), np.float64(50.13411563762019))\n",
      "\n",
      "Chi-squared Test for Normal Distribution:\n",
      "Chi-squared Statistic: 19.46244845001759\n",
      "P-value: 0.4275514051934482\n",
      "\n",
      "Chi-squared Test for Poisson Distribution:\n",
      "Chi-squared Statistic: 6664.383958715657\n",
      "P-value: 0.0\n",
      "\n",
      "The sample data likely follows a Normal distribution (Fail to reject H0 for Normal).\n",
      "The sample data likely does not follow a Poisson distribution (Reject H0 for Poisson).\n"
     ]
    }
   ],
   "source": [
    "import numpy as np\n",
    "from scipy import stats\n",
    "\n",
    "# Step 1: Generate a random sample of 2000 real numbers from a normal distribution\n",
    "sample = np.random.normal(loc=50, scale=10, size=2000)\n",
    "\n",
    "# Step 2: Calculate the 90% confidence interval for the sample mean\n",
    "sample_mean = np.mean(sample)\n",
    "sample_std = np.std(sample, ddof=1)  # Sample standard deviation\n",
    "n = len(sample)\n",
    "\n",
    "# Z-score for 90% confidence\n",
    "z_score = stats.norm.ppf(0.95)\n",
    "confidence_interval = (sample_mean - z_score * (sample_std / np.sqrt(n)),\n",
    "                       sample_mean + z_score * (sample_std / np.sqrt(n)))\n",
    "\n",
    "print(\"90% Confidence Interval for the Sample Mean:\", confidence_interval)\n",
    "\n",
    "# Step 3: Perform Chi-squared tests for Normal and Poisson distributions\n",
    "\n",
    "# Chi-squared test for Normal distribution\n",
    "# Creating bins for the chi-square test (20 bins)\n",
    "observed_freq, bin_edges = np.histogram(sample, bins=20)\n",
    "bin_centers = 0.5 * (bin_edges[1:] + bin_edges[:-1])\n",
    "\n",
    "# Expected frequencies for a normal distribution\n",
    "expected_freq_normal = stats.norm.pdf(bin_centers, loc=sample_mean, scale=sample_std) * n * np.diff(bin_edges)\n",
    "expected_freq_normal *= observed_freq.sum() / expected_freq_normal.sum()  # Normalize to match observed total\n",
    "\n",
    "chi_squared_stat_normal, p_value_normal = stats.chisquare(observed_freq, expected_freq_normal)\n",
    "\n",
    "# Chi-squared test for Poisson distribution\n",
    "# Estimating lambda (mean rate) for Poisson\n",
    "lambda_poisson = np.mean(sample)\n",
    "\n",
    "# Expected frequencies for a Poisson distribution (convert centers to integer for Poisson)\n",
    "expected_freq_poisson = stats.poisson.pmf(bin_centers.astype(int), mu=lambda_poisson) * n\n",
    "expected_freq_poisson *= observed_freq.sum() / expected_freq_poisson.sum()  # Normalize to match observed total\n",
    "\n",
    "chi_squared_stat_poisson, p_value_poisson = stats.chisquare(observed_freq, expected_freq_poisson)\n",
    "\n",
    "# Display results\n",
    "print(\"\\nChi-squared Test for Normal Distribution:\")\n",
    "print(f\"Chi-squared Statistic: {chi_squared_stat_normal}\")\n",
    "print(f\"P-value: {p_value_normal}\")\n",
    "\n",
    "print(\"\\nChi-squared Test for Poisson Distribution:\")\n",
    "print(f\"Chi-squared Statistic: {chi_squared_stat_poisson}\")\n",
    "print(f\"P-value: {p_value_poisson}\")\n",
    "\n",
    "# Conclusion based on the significance level of 0.1\n",
    "alpha = 0.1\n",
    "if p_value_normal > alpha:\n",
    "    print(\"\\nThe sample data likely follows a Normal distribution (Fail to reject H0 for Normal).\")\n",
    "else:\n",
    "    print(\"\\nThe sample data likely does not follow a Normal distribution (Reject H0 for Normal).\")\n",
    "\n",
    "if p_value_poisson > alpha:\n",
    "    print(\"The sample data likely follows a Poisson distribution (Fail to reject H0 for Poisson).\")\n",
    "else:\n",
    "    print(\"The sample data likely does not follow a Poisson distribution (Reject H0 for Poisson).\")\n"
   ]
  },
  {
   "cell_type": "markdown",
   "metadata": {},
   "source": [
    "## Exercise 2"
   ]
  },
  {
   "cell_type": "markdown",
   "metadata": {},
   "source": [
    "Resolve if the following samples belong to the same population by employing a\n",
    "non-parametric test of your choice. Preset any parameter such as the significance level\n",
    "according to your criterion, however, such criterion mustn’t be senseless.\n",
    "\n",
    "|          | Value 1 | Value 2 | Value 3 | Value 4 | Value 5 | Value 6 | Value 7 | Value 8 | Value 9 | Value 10 | Value 11 | Value 12 |\n",
    "|----------|---------|---------|---------|---------|---------|---------|---------|---------|---------|----------|----------|----------|\n",
    "| Sample 1 | 371     | 352     | 397     | 378     | 347     | 366     | 387     | 366     | 378     | 359      | 361      | 382      |\n",
    "| Sample 2 | 409     | 382     | 361     | 394     | 361     | 382     | 387     | 359     | 397     | 359      | 373      | 382      |"
   ]
  },
  {
   "cell_type": "code",
   "execution_count": null,
   "metadata": {},
   "outputs": [
    {
     "name": "stdout",
     "output_type": "stream",
     "text": [
      "Mann-Whitney U Test Results:\n",
      "U Statistic: 51.5\n",
      "P-value: 0.24594176200937112\n",
      "Fail to reject the null hypothesis.\n"
     ]
    }
   ],
   "source": [
    "import numpy as np\n",
    "from scipy.stats import mannwhitneyu\n",
    "\n",
    "# Data\n",
    "sample_1 = np.array([371, 352, 397, 378, 347, 366, 387, 366, 378, 359, 361, 382])\n",
    "sample_2 = np.array([409, 382, 361, 394, 361, 382, 387, 359, 397, 359, 373, 382])\n",
    "\n",
    "# Perform Mann-Whitney U Test\n",
    "statistic, p_value = mannwhitneyu(sample_1, sample_2, alternative='two-sided')\n",
    "\n",
    "# Display the results\n",
    "print(\"Mann-Whitney U Test Results:\")\n",
    "print(f\"U Statistic: {statistic}\")\n",
    "print(f\"P-value: {p_value}\")\n",
    "\n",
    "# Interpretation\n",
    "alpha = 0.05\n",
    "if p_value < alpha:\n",
    "    print(\"Reject the null hypothesis.\")\n",
    "else:\n",
    "    print(\"Fail to reject the null hypothesis.\")"
   ]
  },
  {
   "cell_type": "markdown",
   "metadata": {},
   "source": [
    "## Exercise 3"
   ]
  },
  {
   "cell_type": "markdown",
   "metadata": {},
   "source": [
    "By employing an ANOVA, resolve if the following samples are or are not independent. Set a\n",
    "significance level α = 0.05. Solve the exercise:\n",
    "1. When only helped with a calculator.\n",
    "2. By using Python\n",
    "\n",
    "| Sample A | Sample B | Sample C |\n",
    "| -------- | -------- | -------- |\n",
    "| 643      | 469      | 484      |\n",
    "| 655      | 427      | 456      |\n",
    "| 702      | 525      | 402      |\n",
    "| 682      | 489      | 431      |\n",
    "| 647      | 452      | 493      |\n",
    "| 638      | 510      |          |\n",
    "| 697      |          |          |\n",
    "\n",
    "Note that conclusions from 3.1.- and 3.2.- must be the same."
   ]
  },
  {
   "cell_type": "code",
   "execution_count": 9,
   "metadata": {},
   "outputs": [
    {
     "name": "stdout",
     "output_type": "stream",
     "text": [
      "ANOVA Results:\n",
      "F-statistic: 77.15453575349866\n",
      "P-value: 1.2752130033984084e-08\n",
      "Reject the null hypothesis.\n"
     ]
    }
   ],
   "source": [
    "import numpy as np\n",
    "import scipy.stats as stats\n",
    "\n",
    "# Data\n",
    "sample_a = np.array([643, 655, 702, 682, 647, 638, 697])\n",
    "sample_b = np.array([469, 427, 525, 489, 452, 510])\n",
    "sample_c = np.array([484, 456, 402, 431, 493])\n",
    "\n",
    "# Perform one-way ANOVA\n",
    "f_statistic, p_value = stats.f_oneway(sample_a, sample_b, sample_c)\n",
    "\n",
    "# Display the results\n",
    "print(\"ANOVA Results:\")\n",
    "print(f\"F-statistic: {f_statistic}\")\n",
    "print(f\"P-value: {p_value}\")\n",
    "\n",
    "# Interpretation\n",
    "alpha = 0.05\n",
    "if p_value < alpha:\n",
    "    print(\"Reject the null hypothesis.\")\n",
    "else:\n",
    "    print(\"Fail to reject the null hypothesis.\")"
   ]
  },
  {
   "cell_type": "markdown",
   "metadata": {},
   "source": [
    "## Exercise 4"
   ]
  },
  {
   "cell_type": "markdown",
   "metadata": {},
   "source": [
    "Determine if the data below is linearly related and why should be trusted or not the linear fit.\n",
    "\n",
    "|   | Value 1 | Value 2 | Value 3 | Value 4 | Value 5 | \n",
    "|---|---------|---------|---------|---------|---------|\n",
    "| X | 2.75    | 5.50    | 8.25    | 11.00   | 13.75   |\n",
    "| Y | 663     | 1247    | 1453    | 2010    | 2371    |"
   ]
  },
  {
   "cell_type": "code",
   "execution_count": 5,
   "metadata": {},
   "outputs": [
    {
     "data": {
      "image/png": "[encoded data removed]",
      "text/plain": [
       "<Figure size 800x600 with 1 Axes>"
      ]
     },
     "metadata": {},
     "output_type": "display_data"
    },
    {
     "name": "stdout",
     "output_type": "stream",
     "text": [
      "Slope (β1): 151.9636\n",
      "Intercept (β0): 295.1000\n",
      "R-squared: 0.9847\n",
      "P-value: 8.1052e-04\n",
      "Standard Error: 10.9528\n"
     ]
    }
   ],
   "source": [
    "# Import libraries\n",
    "import pandas as pd\n",
    "import matplotlib.pyplot as plt\n",
    "import seaborn as sns\n",
    "from scipy.stats import linregress\n",
    "\n",
    "# Data\n",
    "data = {\n",
    "    'X': [2.75, 5.50, 8.25, 11.00, 13.75],\n",
    "    'Y': [663, 1247, 1453, 2010, 2371]\n",
    "}\n",
    "df = pd.DataFrame(data)\n",
    "\n",
    "# Compute Linear Regression using scipy\n",
    "slope, intercept, r_value, p_value, std_err = linregress(df['X'], df['Y'])\n",
    "\n",
    "df['Predicted_Y'] = intercept + slope * df['X']\n",
    "\n",
    "# Plot Regression Line\n",
    "plt.figure(figsize=(8,6))\n",
    "sns.scatterplot(x='X', y='Y', data=df, color='blue', label='Data Points')\n",
    "plt.plot(df['X'], df['Predicted_Y'], color='red', label='Regression Line')\n",
    "plt.title('Linear Regression Fit')\n",
    "plt.xlabel('X')\n",
    "plt.ylabel('Y')\n",
    "plt.legend()\n",
    "plt.grid(True)\n",
    "plt.show()\n",
    "\n",
    "# Print Regression Statistics\n",
    "print(f\"Slope (β1): {slope:.4f}\")\n",
    "print(f\"Intercept (β0): {intercept:.4f}\")\n",
    "print(f\"R-squared: {r_value**2:.4f}\")\n",
    "print(f\"P-value: {p_value:.4e}\")\n",
    "print(f\"Standard Error: {std_err:.4f}\")\n"
   ]
  },
  {
   "cell_type": "code",
   "execution_count": null,
   "metadata": {},
   "outputs": [],
   "source": []
  }
 ],
 "metadata": {
  "kernelspec": {
   "display_name": "c1_venv2",
   "language": "python",
   "name": "python3"
  },
  "language_info": {
   "codemirror_mode": {
    "name": "ipython",
    "version": 3
   },
   "file_extension": ".py",
   "mimetype": "text/x-python",
   "name": "python",
   "nbconvert_exporter": "python",
   "pygments_lexer": "ipython3",
   "version": "3.11.7"
  }
 },
 "nbformat": 4,
 "nbformat_minor": 2
}
