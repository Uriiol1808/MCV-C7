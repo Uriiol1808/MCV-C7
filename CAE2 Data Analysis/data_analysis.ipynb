{
 "cells": [
  {
   "cell_type": "markdown",
   "metadata": {},
   "source": [
    "# M0.212 Research Dissermination and Transfer\n",
    "# CAE2 - Data Analysis - 2024/2025"
   ]
  },
  {
   "cell_type": "markdown",
   "metadata": {},
   "source": [
    "## Exercise 1"
   ]
  },
  {
   "cell_type": "markdown",
   "metadata": {},
   "source": [
    "Generate a random sample of 2000 real numbers.\n",
    "- Find the confidence interval of such sample with a condifence level of 90%.\n",
    "- By employing a Chi-squared test, find if your data belongs to a normal or Poisson distribution. To solve this exercise apply two hypothesis contrast, one per distribution. Then find out to which one the null hypothesis H0 the sample belongs to the distribution, prevails. Set a significance level of 10%, alpha = 0.1."
   ]
  },
  {
   "cell_type": "code",
   "execution_count": 8,
   "metadata": {},
   "outputs": [
    {
     "name": "stdout",
     "output_type": "stream",
     "text": [
      "90% Confidence Interval for the Sample Mean: (np.float64(49.37148224880811), np.float64(50.09767609324902))\n",
      "\n",
      "Chi-squared Test for Normal Distribution:\n",
      "Chi-squared Statistic: 24.916085776111306\n",
      "P-value: 0.16332294894900862\n",
      "\n",
      "Chi-squared Test for Poisson Distribution:\n",
      "Chi-squared Statistic: 28340.11432641371\n",
      "P-value: 0.0\n",
      "\n",
      "The sample data likely follows a Normal distribution (Fail to reject H0 for Normal).\n",
      "The sample data likely does not follow a Poisson distribution (Reject H0 for Poisson).\n"
     ]
    }
   ],
   "source": [
    "import numpy as np\n",
    "from scipy import stats\n",
    "\n",
    "# Step 1: Generate a random sample of 2000 real numbers from a normal distribution\n",
    "sample = np.random.normal(loc=50, scale=10, size=2000)\n",
    "\n",
    "# Step 2: Calculate the 90% confidence interval for the sample mean\n",
    "sample_mean = np.mean(sample)\n",
    "sample_std = np.std(sample, ddof=1)  # Sample standard deviation\n",
    "n = len(sample)\n",
    "\n",
    "# Z-score for 90% confidence\n",
    "z_score = stats.norm.ppf(0.95)\n",
    "confidence_interval = (sample_mean - z_score * (sample_std / np.sqrt(n)),\n",
    "                       sample_mean + z_score * (sample_std / np.sqrt(n)))\n",
    "\n",
    "print(\"90% Confidence Interval for the Sample Mean:\", confidence_interval)\n",
    "\n",
    "# Step 3: Perform Chi-squared tests for Normal and Poisson distributions\n",
    "\n",
    "# Chi-squared test for Normal distribution\n",
    "# Creating bins for the chi-square test (20 bins)\n",
    "observed_freq, bin_edges = np.histogram(sample, bins=20)\n",
    "bin_centers = 0.5 * (bin_edges[1:] + bin_edges[:-1])\n",
    "\n",
    "# Expected frequencies for a normal distribution\n",
    "expected_freq_normal = stats.norm.pdf(bin_centers, loc=sample_mean, scale=sample_std) * n * np.diff(bin_edges)\n",
    "expected_freq_normal *= observed_freq.sum() / expected_freq_normal.sum()  # Normalize to match observed total\n",
    "\n",
    "chi_squared_stat_normal, p_value_normal = stats.chisquare(observed_freq, expected_freq_normal)\n",
    "\n",
    "# Chi-squared test for Poisson distribution\n",
    "# Estimating lambda (mean rate) for Poisson\n",
    "lambda_poisson = np.mean(sample)\n",
    "\n",
    "# Expected frequencies for a Poisson distribution (convert centers to integer for Poisson)\n",
    "expected_freq_poisson = stats.poisson.pmf(bin_centers.astype(int), mu=lambda_poisson) * n\n",
    "expected_freq_poisson *= observed_freq.sum() / expected_freq_poisson.sum()  # Normalize to match observed total\n",
    "\n",
    "chi_squared_stat_poisson, p_value_poisson = stats.chisquare(observed_freq, expected_freq_poisson)\n",
    "\n",
    "# Display results\n",
    "print(\"\\nChi-squared Test for Normal Distribution:\")\n",
    "print(f\"Chi-squared Statistic: {chi_squared_stat_normal}\")\n",
    "print(f\"P-value: {p_value_normal}\")\n",
    "\n",
    "print(\"\\nChi-squared Test for Poisson Distribution:\")\n",
    "print(f\"Chi-squared Statistic: {chi_squared_stat_poisson}\")\n",
    "print(f\"P-value: {p_value_poisson}\")\n",
    "\n",
    "# Conclusion based on the significance level of 0.1\n",
    "alpha = 0.1\n",
    "if p_value_normal > alpha:\n",
    "    print(\"\\nThe sample data likely follows a Normal distribution (Fail to reject H0 for Normal).\")\n",
    "else:\n",
    "    print(\"\\nThe sample data likely does not follow a Normal distribution (Reject H0 for Normal).\")\n",
    "\n",
    "if p_value_poisson > alpha:\n",
    "    print(\"The sample data likely follows a Poisson distribution (Fail to reject H0 for Poisson).\")\n",
    "else:\n",
    "    print(\"The sample data likely does not follow a Poisson distribution (Reject H0 for Poisson).\")\n"
   ]
  },
  {
   "cell_type": "markdown",
   "metadata": {},
   "source": [
    "## Exercise 2"
   ]
  },
  {
   "cell_type": "markdown",
   "metadata": {},
   "source": [
    "Resolve if the following samples belong to the same population by employing a\n",
    "non-parametric test of your choice. Preset any parameter such as the significance level\n",
    "according to your criterion, however, such criterion mustn’t be senseless.\n",
    "\n",
    "|          | Value 1 | Value 2 | Value 3 | Value 4 | Value 5 | Value 6 | Value 7 | Value 8 | Value 9 | Value 10 | Value 11 | Value 12 |\n",
    "|----------|---------|---------|---------|---------|---------|---------|---------|---------|---------|----------|----------|----------|\n",
    "| Sample 1 | 371     | 352     | 397     | 378     | 347     | 366     | 387     | 366     | 378     | 359      | 361      | 382      |\n",
    "| Sample 2 | 409     | 382     | 361     | 394     | 361     | 382     | 387     | 359     | 397     | 359      | 373      | 382      |"
   ]
  },
  {
   "cell_type": "code",
   "execution_count": 3,
   "metadata": {},
   "outputs": [
    {
     "name": "stdout",
     "output_type": "stream",
     "text": [
      "Mann-Whitney U Test Results:\n",
      "U Statistic: 51.5\n",
      "P-value: 0.24594176200937112\n",
      "Fail to reject the null hypothesis. There is no evidence that the samples come from different populations.\n"
     ]
    }
   ],
   "source": [
    "import numpy as np\n",
    "from scipy.stats import mannwhitneyu\n",
    "\n",
    "# Data\n",
    "sample_1 = np.array([371, 352, 397, 378, 347, 366, 387, 366, 378, 359, 361, 382])\n",
    "sample_2 = np.array([409, 382, 361, 394, 361, 382, 387, 359, 397, 359, 373, 382])\n",
    "\n",
    "# Perform Mann-Whitney U Test\n",
    "statistic, p_value = mannwhitneyu(sample_1, sample_2, alternative='two-sided')\n",
    "\n",
    "# Display the results\n",
    "print(\"Mann-Whitney U Test Results:\")\n",
    "print(f\"U Statistic: {statistic}\")\n",
    "print(f\"P-value: {p_value}\")\n",
    "\n",
    "# Interpretation\n",
    "alpha = 0.05\n",
    "if p_value < alpha:\n",
    "    print(\"Reject the null hypothesis. The samples likely come from different populations.\")\n",
    "else:\n",
    "    print(\"Fail to reject the null hypothesis. There is no evidence that the samples come from different populations.\")"
   ]
  },
  {
   "cell_type": "markdown",
   "metadata": {},
   "source": [
    "## Exercise 3"
   ]
  },
  {
   "cell_type": "markdown",
   "metadata": {},
   "source": [
    "By employing an ANOVA, resolve if the following samples are or are not independent. Set a\n",
    "significance level α = 0.05. Solve the exercise:\n",
    "1. When only helped with a calculator.\n",
    "2. By using Python\n",
    "\n",
    "| Sample A | Sample B | Sample C |\n",
    "| -------- | -------- | -------- |\n",
    "| 643      | 469      | 484      |\n",
    "| 655      | 427      | 456      |\n",
    "| 702      | 525      | 402      |\n",
    "| 682      | 489      | 431      |\n",
    "| 647      | 452      | 493      |\n",
    "| 638      | 510      |          |\n",
    "| 697      |          |          |\n",
    "\n",
    "Note that conclusions from 3.1.- and 3.2.- must be the same."
   ]
  },
  {
   "cell_type": "code",
   "execution_count": 4,
   "metadata": {},
   "outputs": [
    {
     "name": "stdout",
     "output_type": "stream",
     "text": [
      "ANOVA Results:\n",
      "F-statistic: 77.15453575349866\n",
      "P-value: 1.2752130033984084e-08\n",
      "Reject the null hypothesis. There is a significant difference between the group means, indicating they may not be from the same population.\n"
     ]
    }
   ],
   "source": [
    "import numpy as np\n",
    "import scipy.stats as stats\n",
    "\n",
    "# Data\n",
    "sample_a = np.array([643, 655, 702, 682, 647, 638, 697])\n",
    "sample_b = np.array([469, 427, 525, 489, 452, 510])\n",
    "sample_c = np.array([484, 456, 402, 431, 493])\n",
    "\n",
    "# Perform one-way ANOVA\n",
    "f_statistic, p_value = stats.f_oneway(sample_a, sample_b, sample_c)\n",
    "\n",
    "# Display the results\n",
    "print(\"ANOVA Results:\")\n",
    "print(f\"F-statistic: {f_statistic}\")\n",
    "print(f\"P-value: {p_value}\")\n",
    "\n",
    "# Interpretation\n",
    "alpha = 0.05\n",
    "if p_value < alpha:\n",
    "    print(\"Reject the null hypothesis. There is a significant difference between the group means, indicating they may not be from the same population.\")\n",
    "else:\n",
    "    print(\"Fail to reject the null hypothesis. There is no significant difference between the group means, suggesting they may come from the same population.\")"
   ]
  },
  {
   "cell_type": "markdown",
   "metadata": {},
   "source": [
    "## Exercise 4"
   ]
  },
  {
   "cell_type": "markdown",
   "metadata": {},
   "source": [
    "Determine if the data below is linearly related and why should be trusted or not the linear fit.\n",
    "\n",
    "|   | Value 1 | Value 2 | Value 3 | Value 4 | Value 5 | \n",
    "|---|---------|---------|---------|---------|---------|\n",
    "| X | 2.75    | 5.50    | 8.25    | 11.00   | 13.75   |\n",
    "| Y | 663     | 1247    | 1453    | 2010    | 2371    |"
   ]
  },
  {
   "cell_type": "code",
   "execution_count": 2,
   "metadata": {},
   "outputs": [
    {
     "data": {
      "image/png": "[encoded data removed]",
      "text/plain": [
       "<Figure size 640x480 with 1 Axes>"
      ]
     },
     "metadata": {},
     "output_type": "display_data"
    },
    {
     "name": "stdout",
     "output_type": "stream",
     "text": [
      "Linear Regression Analysis Results:\n",
      "Slope: 151.96363636363643\n",
      "Intercept: 295.0999999999999\n",
      "R-squared: 0.9846547243920459\n",
      "P-value for slope: 0.0008105170416138556\n",
      "Confidence Interval for Slope: [117.10699831 186.82027442]\n",
      "Confidence Interval for Intercept: [-22.81757219 613.01757219]\n",
      "The slope is significantly different from zero (p < 0.05), indicating a statistically significant linear relationship between X and Y.\n",
      "Based on the R-squared value, we can determine how well the model explains the variance in Y.\n"
     ]
    }
   ],
   "source": [
    "import numpy as np\n",
    "import statsmodels.api as sm\n",
    "import matplotlib.pyplot as plt\n",
    "\n",
    "# Data\n",
    "X = np.array([2.75, 5.50, 8.25, 11.00, 13.75])\n",
    "Y = np.array([663, 1247, 1453, 2010, 2371])\n",
    "\n",
    "# Step 1: Plot the data for a visual inspection\n",
    "plt.scatter(X, Y, color=\"blue\", label=\"Data points\")\n",
    "plt.xlabel(\"X\")\n",
    "plt.ylabel(\"Y\")\n",
    "plt.title(\"Scatter plot of X vs Y\")\n",
    "\n",
    "# Step 2: Perform linear regression\n",
    "X_with_const = sm.add_constant(X)  # Add intercept term to X for linear regression\n",
    "model = sm.OLS(Y, X_with_const).fit()\n",
    "\n",
    "# Plot the regression line\n",
    "plt.plot(X, model.predict(X_with_const), color=\"red\", label=\"Fitted line\")\n",
    "plt.legend()\n",
    "plt.show()\n",
    "\n",
    "# Step 3: Extract model parameters\n",
    "slope = model.params[1]\n",
    "intercept = model.params[0]\n",
    "r_squared = model.rsquared\n",
    "p_value = model.pvalues[1]  # P-value for the slope\n",
    "\n",
    "# Step 4: Confidence intervals for the slope and intercept\n",
    "conf_int = model.conf_int()\n",
    "\n",
    "# Output the results\n",
    "print(\"Linear Regression Analysis Results:\")\n",
    "print(f\"Slope: {slope}\")\n",
    "print(f\"Intercept: {intercept}\")\n",
    "print(f\"R-squared: {r_squared}\")\n",
    "print(f\"P-value for slope: {p_value}\")\n",
    "print(f\"Confidence Interval for Slope: {conf_int[1]}\")\n",
    "print(f\"Confidence Interval for Intercept: {conf_int[0]}\")\n",
    "\n",
    "# Step 5: Interpretation of results\n",
    "if p_value < 0.05:\n",
    "    print(\"The slope is significantly different from zero (p < 0.05), indicating a statistically significant linear relationship between X and Y.\")\n",
    "else:\n",
    "    print(\"The slope is not significantly different from zero, suggesting no significant linear relationship between X and Y.\")\n",
    "\n",
    "print(\"Based on the R-squared value, we can determine how well the model explains the variance in Y.\")\n"
   ]
  },
  {
   "cell_type": "code",
   "execution_count": null,
   "metadata": {},
   "outputs": [],
   "source": []
  }
 ],
 "metadata": {
  "kernelspec": {
   "display_name": "c1_venv2",
   "language": "python",
   "name": "python3"
  },
  "language_info": {
   "codemirror_mode": {
    "name": "ipython",
    "version": 3
   },
   "file_extension": ".py",
   "mimetype": "text/x-python",
   "name": "python",
   "nbconvert_exporter": "python",
   "pygments_lexer": "ipython3",
   "version": "3.11.7"
  }
 },
 "nbformat": 4,
 "nbformat_minor": 2
}
