{
 "cells": [
  {
   "cell_type": "markdown",
   "metadata": {},
   "source": [
    "# M0.212 Research Dissermination and Transfer\n",
    "# CAE2 - Data Analysis - 2024/2025"
   ]
  },
  {
   "cell_type": "markdown",
   "metadata": {},
   "source": [
    "## Exercise 1"
   ]
  },
  {
   "cell_type": "markdown",
   "metadata": {},
   "source": [
    "Generate a random sample of 2000 real numbers.\n",
    "- Find the confidence interval of such sample with a condifence level of 90%.\n",
    "- By employing a Chi-squared test, find if your data belongs to a normal or Poisson distribution. To solve this exercise apply two hypothesis contrast, one per distribution. Then find out to which one the null hypothesis H0 the sample belongs to the distribution, prevails. Set a significance level of 10%, alpha = 0.1."
   ]
  },
  {
   "cell_type": "code",
   "execution_count": null,
   "metadata": {
    "vscode": {
     "languageId": "plaintext"
    }
   },
   "outputs": [],
   "source": []
  },
  {
   "cell_type": "markdown",
   "metadata": {},
   "source": [
    "## Exercise 2"
   ]
  },
  {
   "cell_type": "markdown",
   "metadata": {},
   "source": [
    "Resolve if the following samples belong to the same population by employing a\n",
    "non-parametric test of your choice. Preset any parameter such as the significance level\n",
    "according to your criterion, however, such criterion mustn’t be senseless.\n",
    "\n",
    "|          | Value 1 | Value 2 | Value 3 | Value 4 | Value 5 | Value 6 | Value 7 | Value 8 | Value 9 | Value 10 | Value 11 | Value 12 |\n",
    "|----------|---------|---------|---------|---------|---------|---------|---------|---------|---------|----------|----------|----------|\n",
    "| Sample 1 | 371     | 352     | 397     | 378     | 347     | 366     | 387     | 366     | 378     | 359      | 361      | 382      |\n",
    "| Sample 2 | 409     | 382     | 361     | 394     | 361     | 382     | 387     | 359     | 397     | 359      | 373      | 382      |"
   ]
  },
  {
   "cell_type": "code",
   "execution_count": null,
   "metadata": {
    "vscode": {
     "languageId": "plaintext"
    }
   },
   "outputs": [],
   "source": []
  },
  {
   "cell_type": "markdown",
   "metadata": {},
   "source": [
    "## Exercise 3"
   ]
  },
  {
   "cell_type": "markdown",
   "metadata": {},
   "source": [
    "By employing an ANOVA, resolve if the following samples are or are not independent. Set a\n",
    "significance level α = 0.05. Solve the exercise:\n",
    "1. When only helped with a calculator.\n",
    "2. By using Python\n",
    "\n",
    "| Sample A | Sample B | Sample C |\n",
    "| -------- | -------- | -------- |\n",
    "| 643      | 469      | 484      |\n",
    "| 655      | 427      | 456      |\n",
    "| 702      | 525      | 402      |\n",
    "| 682      | 489      | 431      |\n",
    "| 647      | 452      | 493      |\n",
    "| 638      | 510      |          |\n",
    "| 697      |          |          |\n",
    "\n",
    "Note that conclusions from 3.1.- and 3.2.- must be the same."
   ]
  },
  {
   "cell_type": "code",
   "execution_count": null,
   "metadata": {
    "vscode": {
     "languageId": "plaintext"
    }
   },
   "outputs": [],
   "source": []
  },
  {
   "cell_type": "markdown",
   "metadata": {},
   "source": [
    "## Exercise 4"
   ]
  },
  {
   "cell_type": "markdown",
   "metadata": {},
   "source": [
    "Determine if the data below is linearly related and why should be trusted or not the linear fit.\n",
    "\n",
    "|   | Value 1 | Value 2 | Value 3 | Value 4 | Value 5 | \n",
    "|---|---------|---------|---------|---------|---------|\n",
    "| X | 2.75    | 5.50    | 8.25    | 11.00   | 13.75   |\n",
    "| Y | 663     | 1247    | 1453    | 2010    | 2371    |"
   ]
  },
  {
   "cell_type": "code",
   "execution_count": null,
   "metadata": {
    "vscode": {
     "languageId": "plaintext"
    }
   },
   "outputs": [],
   "source": []
  }
 ],
 "metadata": {
  "language_info": {
   "name": "python"
  }
 },
 "nbformat": 4,
 "nbformat_minor": 2
}
